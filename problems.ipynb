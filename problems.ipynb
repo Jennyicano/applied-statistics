{
 "cells": [
  {
   "cell_type": "markdown",
   "id": "615af7b2",
   "metadata": {},
   "source": [
    "# Assessment Problems"
   ]
  },
  {
   "cell_type": "markdown",
   "id": "8f9ec944",
   "metadata": {},
   "source": [
    "## Problem 1: Extending the Lady Tasting Tea"
   ]
  },
  {
   "cell_type": "markdown",
   "id": "71fced43",
   "metadata": {},
   "source": [
    "### Description of the problem\n",
    "\n",
    "Let's extend the Lady Tasting Tea experiment as follows. The original experiment has 8 cups: 4 tea-first and 4 milk-first. Suppose we prepare 12 cups: 8 tea-first and 4 milk-first. A participant claims they can tell which was poured first.\n",
    "\n",
    "Simulate this experiment using numpy by randomly shuffling the cups many times and calculating the probability of the participant correctly identifying all cups by chance. Compare your result with the original 8-cup experiment.\n",
    "\n",
    "In the notebook, explain your simulation process clearly, report and interpret the estimated probability, and discuss whether, based on this probability, you would consider extending or relaxing the p-value threshold compared to the original design."
   ]
  },
  {
   "cell_type": "markdown",
   "id": "2d9214d2",
   "metadata": {},
   "source": [
    "### Libraries"
   ]
  },
  {
   "cell_type": "code",
   "execution_count": 174,
   "id": "163cc250",
   "metadata": {},
   "outputs": [],
   "source": [
    "# Mathematical functions from the standard library.\n",
    "# https://docs.python.org/3/library/math.html\n",
    "import math\n",
    "\n",
    "# Permutations and combinations.\n",
    "# https://docs.python.org/3/library/itertools.html\n",
    "import itertools\n",
    "\n",
    "# Random selections.\n",
    "# https://docs.python.org/3/library/random.html\n",
    "import random\n",
    "\n",
    "# Numerical structures and operations.\n",
    "# https://numpy.org/doc/stable/reference/index.html#reference\n",
    "import numpy as np\n",
    "\n",
    "# Plotting.\n",
    "# https://matplotlib.org/stable/contents.html\n",
    "import matplotlib.pyplot as plt"
   ]
  },
  {
   "cell_type": "markdown",
   "id": "0f83ae50",
   "metadata": {},
   "source": [
    "### Description of the original experiment. \n",
    "\n",
    "In the original experiment the lady claims she can know by tasting the tea cups if the milk or the tea was poured first. The experiment is based with 8 cups: 4 tea-first, 4 milk-first). \n",
    "\n",
    "Needs to be finished the description of the original experiment from the Lecture notes. "
   ]
  },
  {
   "cell_type": "markdown",
   "id": "b555a77f",
   "metadata": {},
   "source": [
    "### Extending the experiment. \n",
    "\n",
    "In the extended version of the Lady Tasting Tea experiment, 12 cups are prepared: 8 with tea poured first and 4 with milk poured first. The participant asserts that they can correctly identify which cups were prepared by pouring tea first versus milk first"
   ]
  },
  {
   "cell_type": "code",
   "execution_count": 175,
   "id": "5d997094",
   "metadata": {},
   "outputs": [],
   "source": [
    "# Number of cups of tea in total.\n",
    "no_cups = 12\n",
    "\n",
    "# Number of cups of tea with tea in first.\n",
    "no_cups_tea_first = 8\n",
    "\n",
    "# Number of cups of tea with milk in first.\n",
    "no_cups_milk_first = 4\n"
   ]
  },
  {
   "cell_type": "markdown",
   "id": "09f9578d",
   "metadata": {},
   "source": [
    "#### Looking at different ways to choose the cup of tea    "
   ]
  },
  {
   "cell_type": "markdown",
   "id": "edc63722",
   "metadata": {},
   "source": [
    "##### Using the math.comb(n, k) \n",
    "\n",
    "In this experiment the use of math.comb method returns the number of combinations of k unordered outcomes from n possibilities, without repetition. \n",
    "\n",
    "Checked https://www.w3schools.com/python/ref_math_comb.asp for clarification of how this method is applied.\n",
    "\n",
    "The `math.comb()` function is called the *choose* function.\n",
    "\n",
    "It is written and calculated as\n",
    "\n",
    "$\\binom{n}{k} = \\frac{n!}{k!(n-k)!}$.\n",
    "\n",
    "n = 12 (Number of cups of tea in total)\n",
    "\n",
    "k = 4 (Number of cups of tea with milk first)"
   ]
  },
  {
   "cell_type": "code",
   "execution_count": 176,
   "id": "dc1c9c02",
   "metadata": {},
   "outputs": [
    {
     "data": {
      "text/plain": [
       "495"
      ]
     },
     "execution_count": 176,
     "metadata": {},
     "output_type": "execute_result"
    }
   ],
   "source": [
    "# Number of ways of selecting four cups from twelve.\n",
    "ways = math.comb(no_cups, no_cups_milk_first)\n",
    "\n",
    "# Show.\n",
    "ways"
   ]
  },
  {
   "cell_type": "markdown",
   "id": "10b18615",
   "metadata": {},
   "source": [
    "Here we can see there are 495 possible unique guesses (randomly) to choose the cups that have milk first. But this ones have not order.\n",
    "\n",
    "So the next step is adding a label to the cups of tea like: `1`, `2`, `3`, `4`, `5`, `6`, `7`, `8`, `9`, `10`, `11`, and `12`.\n",
    "\n",
    "Then we can select four cups to have milk in first.\n",
    "\n",
    "For example, I might select `1`, `3`, `7`, and `9`.\n",
    "\n",
    "How many ways are there to select four cups from eight?\n",
    "\n",
    "Cups: `1 2 3 4 5 6 7 8 9 10 11 12`\n",
    "\n",
    "Placeholders: `_ _ _ _`"
   ]
  },
  {
   "cell_type": "code",
   "execution_count": 177,
   "id": "d108a2e8",
   "metadata": {},
   "outputs": [
    {
     "data": {
      "text/plain": [
       "11880"
      ]
     },
     "execution_count": 177,
     "metadata": {},
     "output_type": "execute_result"
    }
   ],
   "source": [
    "# Total number of ways of selecting four cups from 12, keeping them in order.\n",
    "ways_ordered = 12 * 11 * 10 * 9\n",
    "\n",
    "# Show.\n",
    "ways_ordered"
   ]
  },
  {
   "cell_type": "code",
   "execution_count": 178,
   "id": "5a9ab8e6",
   "metadata": {},
   "outputs": [
    {
     "data": {
      "text/plain": [
       "24"
      ]
     },
     "execution_count": 178,
     "metadata": {},
     "output_type": "execute_result"
    }
   ],
   "source": [
    "# Number of ways of shuffling four cups.\n",
    "no_shuffles = 4 * 3 * 2 * 1\n",
    "\n",
    "# Show.\n",
    "no_shuffles"
   ]
  },
  {
   "cell_type": "code",
   "execution_count": 179,
   "id": "45e6221e",
   "metadata": {},
   "outputs": [
    {
     "data": {
      "text/plain": [
       "495"
      ]
     },
     "execution_count": 179,
     "metadata": {},
     "output_type": "execute_result"
    }
   ],
   "source": [
    "# Number of combinations.\n",
    "no_combs = ways_ordered // no_shuffles\n",
    "\n",
    "# Show.\n",
    "no_combs"
   ]
  },
  {
   "cell_type": "markdown",
   "id": "4a5dfe11",
   "metadata": {},
   "source": [
    "So, right now we can see that there are 11,880 different ordered selections the lady could make when choosing 4 cups out of 12. These are permutations, where the order of selection matters:\n",
    "\n",
    "Ordered selections (permutations):\n",
    "\n",
    "$P(12, 4) = 12 \\times 11 \\times 10 \\times 9 = 11,880$\n",
    "\n",
    "\n",
    "However, in the context of the Lady Tasting Tea experiment, we are only interested in which 4 cups the lady selects as being poured with milk first, regardless of the order in which she picks them. So we divide by the number of ways to arrange 4 items.\n",
    "\n",
    "Unordered selections (combinations):\n",
    "$$\n",
    "C(12, 4) = \\frac{11,880}{4!} = \\frac{11,880}{24} = 495\n",
    "$$\n",
    "\n",
    "This final number, 495, represents the number of unique combinations (unordered selections) of 4 cups out of 12. It is this number we use when analyzing the statistical significance of her performance, since the order doesn't matter, only the subset she chooses.\n",
    "\n",
    "(Used ChatGPT to create the formula-equation in the markdown)"
   ]
  },
  {
   "cell_type": "markdown",
   "id": "5e05ea0e",
   "metadata": {},
   "source": [
    "##### Using numpy in the experiment.\n"
   ]
  },
  {
   "cell_type": "code",
   "execution_count": 180,
   "id": "fc990811",
   "metadata": {},
   "outputs": [
    {
     "data": {
      "text/plain": [
       "array([['M1', 'M2', 'M3', 'M4'],\n",
       "       ['M1', 'M2', 'M3', 'T1'],\n",
       "       ['M1', 'M2', 'M3', 'T2'],\n",
       "       ...,\n",
       "       ['T4', 'T5', 'T7', 'T8'],\n",
       "       ['T4', 'T6', 'T7', 'T8'],\n",
       "       ['T5', 'T6', 'T7', 'T8']], shape=(495, 4), dtype='<U2')"
      ]
     },
     "execution_count": 180,
     "metadata": {},
     "output_type": "execute_result"
    }
   ],
   "source": [
    "# Looking at all the combinations for the 12 cups of tea using numpy.\n",
    "# for the example I call the cups M1, M2, M3, M4 (milk first)\n",
    "# and T1, T2, T3, T4, T5, T6, T7, T8 (tea first).\n",
    "\n",
    "cups = np.array(['M1', 'M2', 'M3', 'M4', 'T1', 'T2', 'T3', 'T4', 'T5', 'T6', 'T7', 'T8'])\n",
    "\n",
    "combinations = list(itertools.combinations(cups, no_cups_milk_first))\n",
    "combinations_array = np.array(combinations)\n",
    "combinations_array"
   ]
  },
  {
   "cell_type": "code",
   "execution_count": 181,
   "id": "73c69fc0",
   "metadata": {},
   "outputs": [
    {
     "data": {
      "text/plain": [
       "495"
      ]
     },
     "execution_count": 181,
     "metadata": {},
     "output_type": "execute_result"
    }
   ],
   "source": [
    "# Looking at the number of combinations.\n",
    "number_of_combinations = combinations_array.shape[0]\n",
    "number_of_combinations"
   ]
  },
  {
   "cell_type": "code",
   "execution_count": 182,
   "id": "86b6cac6",
   "metadata": {},
   "outputs": [
    {
     "name": "stdout",
     "output_type": "stream",
     "text": [
      "Estimated probability of success: 0.002\n"
     ]
    }
   ],
   "source": [
    "# Looking at the estimated probability of success of choosing 4 cups of tea with milk in first out of 12 randomly.\n",
    "# Number of cups\n",
    "no_cups = 12\n",
    "no_cups_milk_first = 4\n",
    "trials = 10000\n",
    "\n",
    "# Label cups: 0–3 = milk-first, 4–11 = tea-first\n",
    "cups = np.arange(no_cups)\n",
    "\n",
    "# Counter for successes\n",
    "successes = 0\n",
    "\n",
    "for _ in range(trials):\n",
    "    selection = np.random.choice(cups, size=no_cups_milk_first, replace=False)\n",
    "    if np.all(np.isin([0, 1, 2, 3], selection)):\n",
    "        successes += 1\n",
    "\n",
    "# Estimated probability\n",
    "probability = successes / trials\n",
    "print(\"Estimated probability of success:\", probability)"
   ]
  },
  {
   "cell_type": "markdown",
   "id": "650da213",
   "metadata": {},
   "source": [
    "A \"success\" will happen if the lady selection includes all four milk-first cups (M1–M4). The probability of this happening is a 0.2% chance of randomly selecting exactly the four milk-first cups out of twelve. \n",
    "\n",
    "I added a Monte Carlo simulation with 10,000 trials to estimate the probability of selecting all four milk-first cups out of twelve. The repeated random sampling produced an approximate probability of 0.002 (0.2%), closely matching the analytical result. \n",
    "\n",
    "I've been looking at [geeksforgeeks](https://www.geeksforgeeks.org/python/monte-carlo-integration-in-python/) and [KDnuggets](https://www.kdnuggets.com/numpy-simulating-random-processes-monte-carlo-methods) for the Monte Carlo information and how to applied with NumPy."
   ]
  },
  {
   "cell_type": "code",
   "execution_count": 183,
   "id": "2bca6c29",
   "metadata": {},
   "outputs": [
    {
     "name": "stdout",
     "output_type": "stream",
     "text": [
      "0.041666666666666664\n"
     ]
    },
    {
     "data": {
      "image/png": "[encoded data removed]",
      "text/plain": [
       "<Figure size 640x480 with 1 Axes>"
      ]
     },
     "metadata": {},
     "output_type": "display_data"
    }
   ],
   "source": [
    "# looking in pie chart for the percent chances of selecting 4 cups of tea with milk in first when selecting at random\n",
    "# chances of selecting 4 cups of tea with milk in first when selecting at random\n",
    "chances = no_combs / ways_ordered\n",
    "print(chances)\n",
    "chances_percentage = chances * 100\n",
    "chances_percentage  \n",
    "labels = ['Chances of selecting 4 cups of tea with milk in first', 'Chances of not selecting 4 cups of tea with milk in first']\n",
    "sizes = [chances_percentage, 100 - chances_percentage]\n",
    "colors = ['#ff9999','#66b3ff']\n",
    "explode = (0.1, 0)\n",
    "plt.pie(sizes, explode=explode, labels=labels, colors=colors, autopct='%1.1f%%', shadow=True, startangle=140)\n",
    "plt.axis('equal')\n",
    "plt.title('Chances of selecting 4 cups of tea with milk in first when selecting at random')\n",
    "plt.show()"
   ]
  },
  {
   "cell_type": "code",
   "execution_count": 185,
   "id": "b330ef4c",
   "metadata": {},
   "outputs": [
    {
     "data": {
      "image/png": "[encoded data removed]",
      "text/plain": [
       "<Figure size 640x480 with 1 Axes>"
      ]
     },
     "metadata": {},
     "output_type": "display_data"
    }
   ],
   "source": [
    "# In a histogram, show the distribution of number of cups of tea with milk in first\n",
    "# when randomly selecting 4 cups from 12. \n",
    "milk_first_counts = []\n",
    "n_trials = 100000\n",
    "for _ in range(n_trials):\n",
    "    selected_cups = random.sample(range(no_cups), no_cups_milk_first)\n",
    "    milk_first_count = sum(1 for cup in selected_cups if cup < no_cups_milk_first)\n",
    "    milk_first_counts.append(milk_first_count)\n",
    "plt.hist(milk_first_counts, bins=np.arange(-0.5, no_cups_milk_first + 1.5, 1), density=True, alpha=0.7, color='blue', edgecolor='black')\n",
    "plt.xticks(range(no_cups_milk_first + 1))\n",
    "plt.xlabel('Number of cups of tea with milk in first')\n",
    "plt.ylabel('Frequency')\n",
    "plt.title('Distribution of number of cups of tea with milk in first when randomly selecting 4 cups from 8')\n",
    "plt.show()"
   ]
  },
  {
   "cell_type": "markdown",
   "id": "e21afd7f",
   "metadata": {},
   "source": [
    "## Problem 2: Normal Distribution\n",
    "\n",
    "Generate 100,000 samples of size 10 from the standard normal distribution. For each sample, compute the standard deviation with ddof=1 (sample SD) and with ddof=0 (population SD). Plot histograms of both sets of values on the same axes with transparency. Describe the differences you see. Explain how you expect these differences to change if the sample size is increased."
   ]
  },
  {
   "cell_type": "markdown",
   "metadata": {},
   "source": [
    "## Problem 3: t-Tests\n",
    "\n"
   ]
  },
  {
   "cell_type": "markdown",
   "id": "5580c48b",
   "metadata": {},
   "source": [
    "## Problem 4: ANOVA"
   ]
  },
  {
   "cell_type": "markdown",
   "id": "f17f72b9",
   "metadata": {},
   "source": [
    "## End\n",
    "\n",
    "*************"
   ]
  }
 ],
 "metadata": {
  "kernelspec": {
   "display_name": "Python 3 (ipykernel)",
   "language": "python",
   "name": "python3"
  },
  "language_info": {
   "codemirror_mode": {
    "name": "ipython",
    "version": 3
   },
   "file_extension": ".py",
   "mimetype": "text/x-python",
   "name": "python",
   "nbconvert_exporter": "python",
   "pygments_lexer": "ipython3",
   "version": "3.12.1"
  }
 },
 "nbformat": 4,
 "nbformat_minor": 5
}
