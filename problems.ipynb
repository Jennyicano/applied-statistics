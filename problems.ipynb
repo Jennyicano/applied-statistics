{
 "cells": [
  {
   "cell_type": "markdown",
   "id": "615af7b2",
   "metadata": {},
   "source": [
    "# Assessment Problems"
   ]
  },
  {
   "cell_type": "markdown",
   "id": "8f9ec944",
   "metadata": {},
   "source": [
    "## Problem 1: Extending the Lady Tasting Tea"
   ]
  },
  {
   "cell_type": "markdown",
   "id": "71fced43",
   "metadata": {},
   "source": [
    "### Description of the problem\n",
    "\n",
    "Let's extend the Lady Tasting Tea experiment as follows. The original experiment has 8 cups: 4 tea-first and 4 milk-first. Suppose we prepare 12 cups: 8 tea-first and 4 milk-first. A participant claims they can tell which was poured first.\n",
    "\n",
    "Simulate this experiment using numpy by randomly shuffling the cups many times and calculating the probability of the participant correctly identifying all cups by chance. Compare your result with the original 8-cup experiment.\n",
    "\n",
    "In the notebook, explain your simulation process clearly, report and interpret the estimated probability, and discuss whether, based on this probability, you would consider extending or relaxing the p-value threshold compared to the original design."
   ]
  },
  {
   "cell_type": "markdown",
   "id": "2d9214d2",
   "metadata": {},
   "source": [
    "### Libraries"
   ]
  },
  {
   "cell_type": "code",
   "execution_count": 1,
   "id": "163cc250",
   "metadata": {},
   "outputs": [],
   "source": [
    "# Mathematical functions from the standard library.\n",
    "# https://docs.python.org/3/library/math.html\n",
    "import math\n",
    "\n",
    "# Permutations and combinations.\n",
    "# https://docs.python.org/3/library/itertools.html\n",
    "import itertools\n",
    "\n",
    "# Random selections.\n",
    "# https://docs.python.org/3/library/random.html\n",
    "import random\n",
    "\n",
    "# Numerical structures and operations.\n",
    "# https://numpy.org/doc/stable/reference/index.html#reference\n",
    "import numpy as np\n",
    "\n",
    "# Plotting.\n",
    "# https://matplotlib.org/stable/contents.html\n",
    "import matplotlib.pyplot as plt"
   ]
  },
  {
   "cell_type": "markdown",
   "id": "0f83ae50",
   "metadata": {},
   "source": [
    "### Description of the original experiment. \n",
    "\n",
    "In the original experiment the lady claims she can know by tasting the tea cups if the milk or the tea was poured first. The experiment is based with 8 cups: 4 tea-first, 4 milk-first)."
   ]
  },
  {
   "cell_type": "markdown",
   "id": "b555a77f",
   "metadata": {},
   "source": [
    "#### Cups of tea"
   ]
  },
  {
   "cell_type": "code",
   "execution_count": null,
   "id": "5d997094",
   "metadata": {},
   "outputs": [],
   "source": [
    "# Number of cups of tea in total.\n",
    "no_cups = 8\n",
    "\n",
    "# Number of cups of tea with milk in first.\n",
    "no_cups_milk_first = 4\n",
    "\n",
    "# Number of cups of tea with tea in first.\n",
    "no_cups_tea_first = 4"
   ]
  },
  {
   "cell_type": "markdown",
   "id": "09f9578d",
   "metadata": {},
   "source": [
    "#### Looking at different ways to choose the cup of tea    "
   ]
  },
  {
   "cell_type": "markdown",
   "id": "edc63722",
   "metadata": {},
   "source": [
    "##### Using the math.comb(n, k) \n",
    "\n",
    "In this experiment the use of math.comb method returns the number of combinations of k unordered outcomes from n possibilities, without repetition. \n",
    "\n",
    "Checked https://www.w3schools.com/python/ref_math_comb.asp for clarification of how this method is applied.\n",
    "\n",
    "The `math.comb()` function is called the *choose* function.\n",
    "\n",
    "It is written and calculated as\n",
    "\n",
    "$\\binom{n}{k} = \\frac{n!}{k!(n-k)!}$.\n",
    "\n",
    "n = 8 (Number of cups of tea in total)\n",
    "\n",
    "k = 4 (Number of cups of tea with milk first)"
   ]
  },
  {
   "cell_type": "code",
   "execution_count": null,
   "id": "dc1c9c02",
   "metadata": {},
   "outputs": [
    {
     "data": {
      "text/plain": [
       "70"
      ]
     },
     "execution_count": 3,
     "metadata": {},
     "output_type": "execute_result"
    }
   ],
   "source": [
    "# Number of ways of selecting four cups from eight.\n",
    "ways = math.comb(no_cups, no_cups_milk_first)\n",
    "\n",
    "# Show.\n",
    "ways"
   ]
  },
  {
   "cell_type": "markdown",
   "id": "10b18615",
   "metadata": {},
   "source": [
    "Here we can see there are 70 possible combinations to choose the cups that have milk first. But this ones have not order.\n",
    "\n",
    "So the next step is adding a label to the cups of tea like: `1`, `2`, `3`, `4`, `5`, `6`, `7`, and `8`.\n",
    "\n",
    "Then we can select four cups to have milk in first.\n",
    "\n",
    "For example, I might select `1`, `3`, `5`, and `7`.\n",
    "\n",
    "How many ways are there to select four cups from eight?\n",
    "\n",
    "Cups: `1 2 3 4 5 6 7 8`\n",
    "\n",
    "Placeholders: `_ _ _ _`"
   ]
  },
  {
   "cell_type": "code",
   "execution_count": null,
   "id": "d108a2e8",
   "metadata": {},
   "outputs": [
    {
     "data": {
      "text/plain": [
       "1680"
      ]
     },
     "execution_count": 4,
     "metadata": {},
     "output_type": "execute_result"
    }
   ],
   "source": [
    "# Total number of ways of selecting four cups from eight, keeping them in order.\n",
    "ways_ordered = 8 * 7 * 6 * 5\n",
    "\n",
    "# Show.\n",
    "ways_ordered"
   ]
  },
  {
   "cell_type": "code",
   "execution_count": null,
   "id": "5a9ab8e6",
   "metadata": {},
   "outputs": [
    {
     "data": {
      "text/plain": [
       "24"
      ]
     },
     "execution_count": 5,
     "metadata": {},
     "output_type": "execute_result"
    }
   ],
   "source": [
    "# Number of ways of shuffling four cups.\n",
    "no_shuffles = 4 * 3 * 2 * 1\n",
    "\n",
    "# Show.\n",
    "no_shuffles"
   ]
  },
  {
   "cell_type": "code",
   "execution_count": null,
   "id": "45e6221e",
   "metadata": {},
   "outputs": [
    {
     "data": {
      "text/plain": [
       "70"
      ]
     },
     "execution_count": 6,
     "metadata": {},
     "output_type": "execute_result"
    }
   ],
   "source": [
    "# Number of combinations.\n",
    "no_combs = ways_ordered // no_shuffles\n",
    "\n",
    "# Show.\n",
    "no_combs"
   ]
  },
  {
   "cell_type": "markdown",
   "id": "4a5dfe11",
   "metadata": {},
   "source": [
    "So, right know we can see there are 1680 different selections ordered that the lady could do with 4 placeholder. How we can shuffle the 4 cups of tea in 24 different ways, this will leave as with 70 different ways of unique combinations unordered, that represents the ways the lady could pick the cups of tea with milk first. "
   ]
  },
  {
   "cell_type": "markdown",
   "id": "5e05ea0e",
   "metadata": {},
   "source": [
    "##### Using numpy in the experiment.\n"
   ]
  },
  {
   "cell_type": "code",
   "execution_count": null,
   "id": "d2c82c86",
   "metadata": {},
   "outputs": [],
   "source": []
  },
  {
   "cell_type": "markdown",
   "id": "45c9cbf9",
   "metadata": {},
   "source": [
    "\n"
   ]
  },
  {
   "cell_type": "markdown",
   "id": "5297f929",
   "metadata": {},
   "source": [
    "### Extending the experiment. \n",
    "\n",
    "In the extended version of the Lady Tasting Tea experiment, 12 cups are prepared: 8 with tea poured first and 4 with milk poured first. The participant asserts that they can correctly identify which cups were prepared by pouring tea first versus milk first"
   ]
  },
  {
   "cell_type": "code",
   "execution_count": null,
   "id": "aa2db3bb",
   "metadata": {},
   "outputs": [],
   "source": [
    "# Number of cups of tea in total.\n",
    "n_cups = 12\n",
    "\n",
    "# Number of cups of tea with tea in first.\n",
    "n_cups_tea_first = 8\n",
    "\n",
    "# Number of cups of tea with milk in first.\n",
    "n_cups_milk_first = 4\n"
   ]
  },
  {
   "cell_type": "code",
   "execution_count": null,
   "id": "2eaaf51f",
   "metadata": {},
   "outputs": [],
   "source": []
  },
  {
   "cell_type": "markdown",
   "metadata": {},
   "source": [
    "## Problem 2: Normal Distribution"
   ]
  },
  {
   "cell_type": "markdown",
   "metadata": {},
   "source": [
    "## Problem 3: t-Tests"
   ]
  },
  {
   "cell_type": "markdown",
   "id": "5580c48b",
   "metadata": {},
   "source": [
    "## Problem 4: ANOVA"
   ]
  },
  {
   "cell_type": "markdown",
   "id": "f17f72b9",
   "metadata": {},
   "source": [
    "## End\n",
    "\n",
    "*************"
   ]
  }
 ],
 "metadata": {
  "kernelspec": {
   "display_name": "Python 3 (ipykernel)",
   "language": "python",
   "name": "python3"
  },
  "language_info": {
   "codemirror_mode": {
    "name": "ipython",
    "version": 3
   },
   "file_extension": ".py",
   "mimetype": "text/x-python",
   "name": "python",
   "nbconvert_exporter": "python",
   "pygments_lexer": "ipython3",
   "version": "3.12.1"
  }
 },
 "nbformat": 4,
 "nbformat_minor": 5
}
