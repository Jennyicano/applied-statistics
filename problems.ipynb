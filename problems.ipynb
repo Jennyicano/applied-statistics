{
 "cells": [
  {
   "cell_type": "markdown",
   "id": "615af7b2",
   "metadata": {},
   "source": [
    "# Assessment Problems"
   ]
  },
  {
   "cell_type": "markdown",
   "id": "8f9ec944",
   "metadata": {},
   "source": [
    "## Problem 1: Extending the Lady Tasting Tea"
   ]
  },
  {
   "cell_type": "markdown",
   "id": "71fced43",
   "metadata": {},
   "source": [
    "### Description of the problem\n",
    "\n",
    "Let's extend the Lady Tasting Tea experiment as follows. The original experiment has 8 cups: 4 tea-first and 4 milk-first. Suppose we prepare 12 cups: 8 tea-first and 4 milk-first. A participant claims they can tell which was poured first.\n",
    "\n",
    "Simulate this experiment using numpy by randomly shuffling the cups many times and calculating the probability of the participant correctly identifying all cups by chance. Compare your result with the original 8-cup experiment.\n",
    "\n",
    "In the notebook, explain your simulation process clearly, report and interpret the estimated probability, and discuss whether, based on this probability, you would consider extending or relaxing the p-value threshold compared to the original design."
   ]
  },
  {
   "cell_type": "markdown",
   "id": "2d9214d2",
   "metadata": {},
   "source": [
    "### Libraries"
   ]
  },
  {
   "cell_type": "code",
   "execution_count": 164,
   "id": "163cc250",
   "metadata": {},
   "outputs": [],
   "source": [
    "# Mathematical functions from the standard library.\n",
    "# https://docs.python.org/3/library/math.html\n",
    "import math\n",
    "\n",
    "# Permutations and combinations.\n",
    "# https://docs.python.org/3/library/itertools.html\n",
    "import itertools\n",
    "\n",
    "# Random selections.\n",
    "# https://docs.python.org/3/library/random.html\n",
    "import random\n",
    "\n",
    "# Numerical structures and operations.\n",
    "# https://numpy.org/doc/stable/reference/index.html#reference\n",
    "import numpy as np\n",
    "\n",
    "# Plotting.\n",
    "# https://matplotlib.org/stable/contents.html\n",
    "import matplotlib.pyplot as plt"
   ]
  },
  {
   "cell_type": "markdown",
   "id": "0f83ae50",
   "metadata": {},
   "source": [
    "### Description of the original experiment. \n",
    "\n",
    "In the original experiment the lady claims she can know by tasting the tea cups if the milk or the tea was poured first. The experiment is based with 8 cups: 4 tea-first, 4 milk-first). \n",
    "\n",
    "Needs to be finished the description of the original experiment from the Lecture notes. "
   ]
  },
  {
   "cell_type": "markdown",
   "id": "b555a77f",
   "metadata": {},
   "source": [
    "### Extending the experiment. \n",
    "\n",
    "In the extended version of the Lady Tasting Tea experiment, 12 cups are prepared: 8 with tea poured first and 4 with milk poured first. The participant asserts that they can correctly identify which cups were prepared by pouring tea first versus milk first"
   ]
  },
  {
   "cell_type": "code",
   "execution_count": 165,
   "id": "5d997094",
   "metadata": {},
   "outputs": [],
   "source": [
    "# Number of cups of tea in total.\n",
    "no_cups = 12\n",
    "\n",
    "# Number of cups of tea with tea in first.\n",
    "no_cups_tea_first = 8\n",
    "\n",
    "# Number of cups of tea with milk in first.\n",
    "no_cups_milk_first = 4\n"
   ]
  },
  {
   "cell_type": "markdown",
   "id": "09f9578d",
   "metadata": {},
   "source": [
    "#### Looking at different ways to choose the cup of tea    "
   ]
  },
  {
   "cell_type": "markdown",
   "id": "edc63722",
   "metadata": {},
   "source": [
    "##### Using the math.comb(n, k) \n",
    "\n",
    "In this experiment the use of math.comb method returns the number of combinations of k unordered outcomes from n possibilities, without repetition. \n",
    "\n",
    "Checked https://www.w3schools.com/python/ref_math_comb.asp for clarification of how this method is applied.\n",
    "\n",
    "The `math.comb()` function is called the *choose* function.\n",
    "\n",
    "It is written and calculated as\n",
    "\n",
    "$\\binom{n}{k} = \\frac{n!}{k!(n-k)!}$.\n",
    "\n",
    "n = 12 (Number of cups of tea in total)\n",
    "\n",
    "k = 4 (Number of cups of tea with milk first)"
   ]
  },
  {
   "cell_type": "code",
   "execution_count": 166,
   "id": "dc1c9c02",
   "metadata": {},
   "outputs": [
    {
     "data": {
      "text/plain": [
       "495"
      ]
     },
     "execution_count": 166,
     "metadata": {},
     "output_type": "execute_result"
    }
   ],
   "source": [
    "# Number of ways of selecting four cups from twelve.\n",
    "ways = math.comb(no_cups, no_cups_milk_first)\n",
    "\n",
    "# Show.\n",
    "ways"
   ]
  },
  {
   "cell_type": "markdown",
   "id": "10b18615",
   "metadata": {},
   "source": [
    "Here we can see there are 495 possible unique guesses (randomly) to choose the cups that have milk first. But this ones have not order.\n",
    "\n",
    "So the next step is adding a label to the cups of tea like: `1`, `2`, `3`, `4`, `5`, `6`, `7`, `8`, `9`, `10`, `11`, and `12`.\n",
    "\n",
    "Then we can select four cups to have milk in first.\n",
    "\n",
    "For example, I might select `1`, `3`, `7`, and `9`.\n",
    "\n",
    "How many ways are there to select four cups from twelve?\n",
    "\n",
    "Cups: `1 2 3 4 5 6 7 8 9 10 11 12`\n",
    "\n",
    "Placeholders: `_ _ _ _`"
   ]
  },
  {
   "cell_type": "code",
   "execution_count": 167,
   "id": "d108a2e8",
   "metadata": {},
   "outputs": [
    {
     "data": {
      "text/plain": [
       "11880"
      ]
     },
     "execution_count": 167,
     "metadata": {},
     "output_type": "execute_result"
    }
   ],
   "source": [
    "# Total number of ways of selecting four cups from 12, keeping them in order.\n",
    "ways_ordered = 12 * 11 * 10 * 9\n",
    "\n",
    "# Show.\n",
    "ways_ordered"
   ]
  },
  {
   "cell_type": "code",
   "execution_count": 168,
   "id": "5a9ab8e6",
   "metadata": {},
   "outputs": [
    {
     "data": {
      "text/plain": [
       "24"
      ]
     },
     "execution_count": 168,
     "metadata": {},
     "output_type": "execute_result"
    }
   ],
   "source": [
    "# Number of ways of shuffling four cups.\n",
    "no_shuffles = 4 * 3 * 2 * 1\n",
    "\n",
    "# Show.\n",
    "no_shuffles"
   ]
  },
  {
   "cell_type": "code",
   "execution_count": 169,
   "id": "45e6221e",
   "metadata": {},
   "outputs": [
    {
     "data": {
      "text/plain": [
       "495"
      ]
     },
     "execution_count": 169,
     "metadata": {},
     "output_type": "execute_result"
    }
   ],
   "source": [
    "# Number of combinations.\n",
    "no_combs = ways_ordered // no_shuffles\n",
    "\n",
    "# Show.\n",
    "no_combs"
   ]
  },
  {
   "cell_type": "markdown",
   "id": "4a5dfe11",
   "metadata": {},
   "source": [
    "So, right now we can see that there are 11,880 different ordered selections the lady could make when choosing 4 cups out of 12. These are permutations, where the order of selection matters:\n",
    "\n",
    "Ordered selections (permutations):\n",
    "\n",
    "$P(12, 4) = 12 \\times 11 \\times 10 \\times 9 = 11,880$\n",
    "\n",
    "\n",
    "However, in the context of the Lady Tasting Tea experiment, we are only interested in which 4 cups the lady selects as being poured with milk first, regardless of the order in which she picks them. So we divide by the number of ways to arrange 4 items.\n",
    "\n",
    "Unordered selections (combinations):\n",
    "$$\n",
    "C(12, 4) = \\frac{11,880}{4!} = \\frac{11,880}{24} = 495\n",
    "$$\n",
    "\n",
    "This final number, 495, represents the number of unique combinations (unordered selections) of 4 cups out of 12. It is this number we use when analyzing the statistical significance of her performance, since the order doesn't matter, only the subset she chooses.\n",
    "\n",
    "(Used ChatGPT to create the formula-equation in the markdown)"
   ]
  },
  {
   "cell_type": "markdown",
   "id": "5e05ea0e",
   "metadata": {},
   "source": [
    "##### Using numpy in the experiment.\n"
   ]
  },
  {
   "cell_type": "code",
   "execution_count": 170,
   "id": "fc990811",
   "metadata": {},
   "outputs": [
    {
     "data": {
      "text/plain": [
       "array([[ 0,  1,  2,  3],\n",
       "       [ 0,  1,  2,  4],\n",
       "       [ 0,  1,  2,  5],\n",
       "       ...,\n",
       "       [ 7,  8, 10, 11],\n",
       "       [ 7,  9, 10, 11],\n",
       "       [ 8,  9, 10, 11]])"
      ]
     },
     "execution_count": 170,
     "metadata": {},
     "output_type": "execute_result"
    }
   ],
   "source": [
    "# Looking at all the combinations for the 12 cups of tea using numpy.\n",
    "# for the example I call the cups M1, M2, M3, M4 (milk first)\n",
    "# and T1, T2, T3, T4, T5, T6, T7, T8 (tea first).\n",
    "\n",
    "cups = np.array([0, 1, 2, 3, 4, 5, 6, 7, 8, 9, 10, 11])\n",
    "\n",
    "combinations = list(itertools.combinations(cups, no_cups_milk_first))\n",
    "combinations_array = np.array(combinations)\n",
    "combinations_array"
   ]
  },
  {
   "cell_type": "code",
   "execution_count": 171,
   "id": "73c69fc0",
   "metadata": {},
   "outputs": [
    {
     "data": {
      "text/plain": [
       "495"
      ]
     },
     "execution_count": 171,
     "metadata": {},
     "output_type": "execute_result"
    }
   ],
   "source": [
    "# Looking at the number of combinations.\n",
    "number_of_combinations = combinations_array.shape[0]\n",
    "number_of_combinations"
   ]
  },
  {
   "cell_type": "code",
   "execution_count": 172,
   "id": "6c035e81",
   "metadata": {},
   "outputs": [
    {
     "data": {
      "text/plain": [
       "[3, 6, 8, 9]"
      ]
     },
     "execution_count": 172,
     "metadata": {},
     "output_type": "execute_result"
    }
   ],
   "source": [
    "# Select four cups at random to put milk in first.\n",
    "# https://docs.python.org/3/library/random.html#random.sample and following the notebook from the lecture\n",
    "# The cup labels.\n",
    "labels = list(range(no_cups))\n",
    "\n",
    "# Show.\n",
    "labels_milk = random.sample(labels, 4)\n",
    "\n",
    "# Sort, inplace.\n",
    "labels_milk.sort()\n",
    "\n",
    "# Show.\n",
    "labels_milk"
   ]
  },
  {
   "cell_type": "code",
   "execution_count": 173,
   "id": "7b53285d",
   "metadata": {},
   "outputs": [
    {
     "data": {
      "text/plain": [
       "{3, 6, 8, 9}"
      ]
     },
     "execution_count": 173,
     "metadata": {},
     "output_type": "execute_result"
    }
   ],
   "source": [
    "# Turn labels_milk into a set.\n",
    "# Uses: https://docs.python.org/3/tutorial/datastructures.html#sets\n",
    "set(labels_milk)"
   ]
  },
  {
   "cell_type": "code",
   "execution_count": 174,
   "id": "dfe4e24b",
   "metadata": {},
   "outputs": [
    {
     "name": "stdout",
     "output_type": "stream",
     "text": [
      "[0 1 2 3] 1 {3}\n",
      "[0 1 2 4] 0 set()\n",
      "[0 1 2 5] 0 set()\n",
      "[0 1 2 6] 1 {6}\n",
      "[0 1 2 7] 0 set()\n",
      "[0 1 2 8] 1 {8}\n",
      "[0 1 2 9] 1 {9}\n",
      "[ 0  1  2 10] 0 set()\n",
      "[ 0  1  2 11] 0 set()\n",
      "[0 1 3 4] 1 {3}\n",
      "[0 1 3 5] 1 {3}\n",
      "[0 1 3 6] 2 {3, 6}\n",
      "[0 1 3 7] 1 {3}\n",
      "[0 1 3 8] 2 {8, 3}\n",
      "[0 1 3 9] 2 {9, 3}\n",
      "[ 0  1  3 10] 1 {3}\n",
      "[ 0  1  3 11] 1 {3}\n",
      "[0 1 4 5] 0 set()\n",
      "[0 1 4 6] 1 {6}\n",
      "[0 1 4 7] 0 set()\n",
      "[0 1 4 8] 1 {8}\n",
      "[0 1 4 9] 1 {9}\n",
      "[ 0  1  4 10] 0 set()\n",
      "[ 0  1  4 11] 0 set()\n",
      "[0 1 5 6] 1 {6}\n",
      "[0 1 5 7] 0 set()\n",
      "[0 1 5 8] 1 {8}\n",
      "[0 1 5 9] 1 {9}\n",
      "[ 0  1  5 10] 0 set()\n",
      "[ 0  1  5 11] 0 set()\n",
      "[0 1 6 7] 1 {6}\n",
      "[0 1 6 8] 2 {8, 6}\n",
      "[0 1 6 9] 2 {9, 6}\n",
      "[ 0  1  6 10] 1 {6}\n",
      "[ 0  1  6 11] 1 {6}\n",
      "[0 1 7 8] 1 {8}\n",
      "[0 1 7 9] 1 {9}\n",
      "[ 0  1  7 10] 0 set()\n",
      "[ 0  1  7 11] 0 set()\n",
      "[0 1 8 9] 2 {8, 9}\n",
      "[ 0  1  8 10] 1 {8}\n",
      "[ 0  1  8 11] 1 {8}\n",
      "[ 0  1  9 10] 1 {9}\n",
      "[ 0  1  9 11] 1 {9}\n",
      "[ 0  1 10 11] 0 set()\n",
      "[0 2 3 4] 1 {3}\n",
      "[0 2 3 5] 1 {3}\n",
      "[0 2 3 6] 2 {3, 6}\n",
      "[0 2 3 7] 1 {3}\n",
      "[0 2 3 8] 2 {8, 3}\n",
      "[0 2 3 9] 2 {9, 3}\n",
      "[ 0  2  3 10] 1 {3}\n",
      "[ 0  2  3 11] 1 {3}\n",
      "[0 2 4 5] 0 set()\n",
      "[0 2 4 6] 1 {6}\n",
      "[0 2 4 7] 0 set()\n",
      "[0 2 4 8] 1 {8}\n",
      "[0 2 4 9] 1 {9}\n",
      "[ 0  2  4 10] 0 set()\n",
      "[ 0  2  4 11] 0 set()\n",
      "[0 2 5 6] 1 {6}\n",
      "[0 2 5 7] 0 set()\n",
      "[0 2 5 8] 1 {8}\n",
      "[0 2 5 9] 1 {9}\n",
      "[ 0  2  5 10] 0 set()\n",
      "[ 0  2  5 11] 0 set()\n",
      "[0 2 6 7] 1 {6}\n",
      "[0 2 6 8] 2 {8, 6}\n",
      "[0 2 6 9] 2 {9, 6}\n",
      "[ 0  2  6 10] 1 {6}\n",
      "[ 0  2  6 11] 1 {6}\n",
      "[0 2 7 8] 1 {8}\n",
      "[0 2 7 9] 1 {9}\n",
      "[ 0  2  7 10] 0 set()\n",
      "[ 0  2  7 11] 0 set()\n",
      "[0 2 8 9] 2 {8, 9}\n",
      "[ 0  2  8 10] 1 {8}\n",
      "[ 0  2  8 11] 1 {8}\n",
      "[ 0  2  9 10] 1 {9}\n",
      "[ 0  2  9 11] 1 {9}\n",
      "[ 0  2 10 11] 0 set()\n",
      "[0 3 4 5] 1 {3}\n",
      "[0 3 4 6] 2 {3, 6}\n",
      "[0 3 4 7] 1 {3}\n",
      "[0 3 4 8] 2 {8, 3}\n",
      "[0 3 4 9] 2 {9, 3}\n",
      "[ 0  3  4 10] 1 {3}\n",
      "[ 0  3  4 11] 1 {3}\n",
      "[0 3 5 6] 2 {3, 6}\n",
      "[0 3 5 7] 1 {3}\n",
      "[0 3 5 8] 2 {8, 3}\n",
      "[0 3 5 9] 2 {9, 3}\n",
      "[ 0  3  5 10] 1 {3}\n",
      "[ 0  3  5 11] 1 {3}\n",
      "[0 3 6 7] 2 {3, 6}\n",
      "[0 3 6 8] 3 {8, 3, 6}\n",
      "[0 3 6 9] 3 {9, 3, 6}\n",
      "[ 0  3  6 10] 2 {3, 6}\n",
      "[ 0  3  6 11] 2 {3, 6}\n",
      "[0 3 7 8] 2 {8, 3}\n",
      "[0 3 7 9] 2 {9, 3}\n",
      "[ 0  3  7 10] 1 {3}\n",
      "[ 0  3  7 11] 1 {3}\n",
      "[0 3 8 9] 3 {8, 9, 3}\n",
      "[ 0  3  8 10] 2 {8, 3}\n",
      "[ 0  3  8 11] 2 {8, 3}\n",
      "[ 0  3  9 10] 2 {9, 3}\n",
      "[ 0  3  9 11] 2 {9, 3}\n",
      "[ 0  3 10 11] 1 {3}\n",
      "[0 4 5 6] 1 {6}\n",
      "[0 4 5 7] 0 set()\n",
      "[0 4 5 8] 1 {8}\n",
      "[0 4 5 9] 1 {9}\n",
      "[ 0  4  5 10] 0 set()\n",
      "[ 0  4  5 11] 0 set()\n",
      "[0 4 6 7] 1 {6}\n",
      "[0 4 6 8] 2 {8, 6}\n",
      "[0 4 6 9] 2 {9, 6}\n",
      "[ 0  4  6 10] 1 {6}\n",
      "[ 0  4  6 11] 1 {6}\n",
      "[0 4 7 8] 1 {8}\n",
      "[0 4 7 9] 1 {9}\n",
      "[ 0  4  7 10] 0 set()\n",
      "[ 0  4  7 11] 0 set()\n",
      "[0 4 8 9] 2 {8, 9}\n",
      "[ 0  4  8 10] 1 {8}\n",
      "[ 0  4  8 11] 1 {8}\n",
      "[ 0  4  9 10] 1 {9}\n",
      "[ 0  4  9 11] 1 {9}\n",
      "[ 0  4 10 11] 0 set()\n",
      "[0 5 6 7] 1 {6}\n",
      "[0 5 6 8] 2 {8, 6}\n",
      "[0 5 6 9] 2 {9, 6}\n",
      "[ 0  5  6 10] 1 {6}\n",
      "[ 0  5  6 11] 1 {6}\n",
      "[0 5 7 8] 1 {8}\n",
      "[0 5 7 9] 1 {9}\n",
      "[ 0  5  7 10] 0 set()\n",
      "[ 0  5  7 11] 0 set()\n",
      "[0 5 8 9] 2 {8, 9}\n",
      "[ 0  5  8 10] 1 {8}\n",
      "[ 0  5  8 11] 1 {8}\n",
      "[ 0  5  9 10] 1 {9}\n",
      "[ 0  5  9 11] 1 {9}\n",
      "[ 0  5 10 11] 0 set()\n",
      "[0 6 7 8] 2 {8, 6}\n",
      "[0 6 7 9] 2 {9, 6}\n",
      "[ 0  6  7 10] 1 {6}\n",
      "[ 0  6  7 11] 1 {6}\n",
      "[0 6 8 9] 3 {8, 9, 6}\n",
      "[ 0  6  8 10] 2 {8, 6}\n",
      "[ 0  6  8 11] 2 {8, 6}\n",
      "[ 0  6  9 10] 2 {9, 6}\n",
      "[ 0  6  9 11] 2 {9, 6}\n",
      "[ 0  6 10 11] 1 {6}\n",
      "[0 7 8 9] 2 {8, 9}\n",
      "[ 0  7  8 10] 1 {8}\n",
      "[ 0  7  8 11] 1 {8}\n",
      "[ 0  7  9 10] 1 {9}\n",
      "[ 0  7  9 11] 1 {9}\n",
      "[ 0  7 10 11] 0 set()\n",
      "[ 0  8  9 10] 2 {8, 9}\n",
      "[ 0  8  9 11] 2 {8, 9}\n",
      "[ 0  8 10 11] 1 {8}\n",
      "[ 0  9 10 11] 1 {9}\n",
      "[1 2 3 4] 1 {3}\n",
      "[1 2 3 5] 1 {3}\n",
      "[1 2 3 6] 2 {3, 6}\n",
      "[1 2 3 7] 1 {3}\n",
      "[1 2 3 8] 2 {8, 3}\n",
      "[1 2 3 9] 2 {9, 3}\n",
      "[ 1  2  3 10] 1 {3}\n",
      "[ 1  2  3 11] 1 {3}\n",
      "[1 2 4 5] 0 set()\n",
      "[1 2 4 6] 1 {6}\n",
      "[1 2 4 7] 0 set()\n",
      "[1 2 4 8] 1 {8}\n",
      "[1 2 4 9] 1 {9}\n",
      "[ 1  2  4 10] 0 set()\n",
      "[ 1  2  4 11] 0 set()\n",
      "[1 2 5 6] 1 {6}\n",
      "[1 2 5 7] 0 set()\n",
      "[1 2 5 8] 1 {8}\n",
      "[1 2 5 9] 1 {9}\n",
      "[ 1  2  5 10] 0 set()\n",
      "[ 1  2  5 11] 0 set()\n",
      "[1 2 6 7] 1 {6}\n",
      "[1 2 6 8] 2 {8, 6}\n",
      "[1 2 6 9] 2 {9, 6}\n",
      "[ 1  2  6 10] 1 {6}\n",
      "[ 1  2  6 11] 1 {6}\n",
      "[1 2 7 8] 1 {8}\n",
      "[1 2 7 9] 1 {9}\n",
      "[ 1  2  7 10] 0 set()\n",
      "[ 1  2  7 11] 0 set()\n",
      "[1 2 8 9] 2 {8, 9}\n",
      "[ 1  2  8 10] 1 {8}\n",
      "[ 1  2  8 11] 1 {8}\n",
      "[ 1  2  9 10] 1 {9}\n",
      "[ 1  2  9 11] 1 {9}\n",
      "[ 1  2 10 11] 0 set()\n",
      "[1 3 4 5] 1 {3}\n",
      "[1 3 4 6] 2 {3, 6}\n",
      "[1 3 4 7] 1 {3}\n",
      "[1 3 4 8] 2 {8, 3}\n",
      "[1 3 4 9] 2 {9, 3}\n",
      "[ 1  3  4 10] 1 {3}\n",
      "[ 1  3  4 11] 1 {3}\n",
      "[1 3 5 6] 2 {3, 6}\n",
      "[1 3 5 7] 1 {3}\n",
      "[1 3 5 8] 2 {8, 3}\n",
      "[1 3 5 9] 2 {9, 3}\n",
      "[ 1  3  5 10] 1 {3}\n",
      "[ 1  3  5 11] 1 {3}\n",
      "[1 3 6 7] 2 {3, 6}\n",
      "[1 3 6 8] 3 {8, 3, 6}\n",
      "[1 3 6 9] 3 {9, 3, 6}\n",
      "[ 1  3  6 10] 2 {3, 6}\n",
      "[ 1  3  6 11] 2 {3, 6}\n",
      "[1 3 7 8] 2 {8, 3}\n",
      "[1 3 7 9] 2 {9, 3}\n",
      "[ 1  3  7 10] 1 {3}\n",
      "[ 1  3  7 11] 1 {3}\n",
      "[1 3 8 9] 3 {8, 9, 3}\n",
      "[ 1  3  8 10] 2 {8, 3}\n",
      "[ 1  3  8 11] 2 {8, 3}\n",
      "[ 1  3  9 10] 2 {9, 3}\n",
      "[ 1  3  9 11] 2 {9, 3}\n",
      "[ 1  3 10 11] 1 {3}\n",
      "[1 4 5 6] 1 {6}\n",
      "[1 4 5 7] 0 set()\n",
      "[1 4 5 8] 1 {8}\n",
      "[1 4 5 9] 1 {9}\n",
      "[ 1  4  5 10] 0 set()\n",
      "[ 1  4  5 11] 0 set()\n",
      "[1 4 6 7] 1 {6}\n",
      "[1 4 6 8] 2 {8, 6}\n",
      "[1 4 6 9] 2 {9, 6}\n",
      "[ 1  4  6 10] 1 {6}\n",
      "[ 1  4  6 11] 1 {6}\n",
      "[1 4 7 8] 1 {8}\n",
      "[1 4 7 9] 1 {9}\n",
      "[ 1  4  7 10] 0 set()\n",
      "[ 1  4  7 11] 0 set()\n",
      "[1 4 8 9] 2 {8, 9}\n",
      "[ 1  4  8 10] 1 {8}\n",
      "[ 1  4  8 11] 1 {8}\n",
      "[ 1  4  9 10] 1 {9}\n",
      "[ 1  4  9 11] 1 {9}\n",
      "[ 1  4 10 11] 0 set()\n",
      "[1 5 6 7] 1 {6}\n",
      "[1 5 6 8] 2 {8, 6}\n",
      "[1 5 6 9] 2 {9, 6}\n",
      "[ 1  5  6 10] 1 {6}\n",
      "[ 1  5  6 11] 1 {6}\n",
      "[1 5 7 8] 1 {8}\n",
      "[1 5 7 9] 1 {9}\n",
      "[ 1  5  7 10] 0 set()\n",
      "[ 1  5  7 11] 0 set()\n",
      "[1 5 8 9] 2 {8, 9}\n",
      "[ 1  5  8 10] 1 {8}\n",
      "[ 1  5  8 11] 1 {8}\n",
      "[ 1  5  9 10] 1 {9}\n",
      "[ 1  5  9 11] 1 {9}\n",
      "[ 1  5 10 11] 0 set()\n",
      "[1 6 7 8] 2 {8, 6}\n",
      "[1 6 7 9] 2 {9, 6}\n",
      "[ 1  6  7 10] 1 {6}\n",
      "[ 1  6  7 11] 1 {6}\n",
      "[1 6 8 9] 3 {8, 9, 6}\n",
      "[ 1  6  8 10] 2 {8, 6}\n",
      "[ 1  6  8 11] 2 {8, 6}\n",
      "[ 1  6  9 10] 2 {9, 6}\n",
      "[ 1  6  9 11] 2 {9, 6}\n",
      "[ 1  6 10 11] 1 {6}\n",
      "[1 7 8 9] 2 {8, 9}\n",
      "[ 1  7  8 10] 1 {8}\n",
      "[ 1  7  8 11] 1 {8}\n",
      "[ 1  7  9 10] 1 {9}\n",
      "[ 1  7  9 11] 1 {9}\n",
      "[ 1  7 10 11] 0 set()\n",
      "[ 1  8  9 10] 2 {8, 9}\n",
      "[ 1  8  9 11] 2 {8, 9}\n",
      "[ 1  8 10 11] 1 {8}\n",
      "[ 1  9 10 11] 1 {9}\n",
      "[2 3 4 5] 1 {3}\n",
      "[2 3 4 6] 2 {3, 6}\n",
      "[2 3 4 7] 1 {3}\n",
      "[2 3 4 8] 2 {8, 3}\n",
      "[2 3 4 9] 2 {9, 3}\n",
      "[ 2  3  4 10] 1 {3}\n",
      "[ 2  3  4 11] 1 {3}\n",
      "[2 3 5 6] 2 {3, 6}\n",
      "[2 3 5 7] 1 {3}\n",
      "[2 3 5 8] 2 {8, 3}\n",
      "[2 3 5 9] 2 {9, 3}\n",
      "[ 2  3  5 10] 1 {3}\n",
      "[ 2  3  5 11] 1 {3}\n",
      "[2 3 6 7] 2 {3, 6}\n",
      "[2 3 6 8] 3 {8, 3, 6}\n",
      "[2 3 6 9] 3 {9, 3, 6}\n",
      "[ 2  3  6 10] 2 {3, 6}\n",
      "[ 2  3  6 11] 2 {3, 6}\n",
      "[2 3 7 8] 2 {8, 3}\n",
      "[2 3 7 9] 2 {9, 3}\n",
      "[ 2  3  7 10] 1 {3}\n",
      "[ 2  3  7 11] 1 {3}\n",
      "[2 3 8 9] 3 {8, 9, 3}\n",
      "[ 2  3  8 10] 2 {8, 3}\n",
      "[ 2  3  8 11] 2 {8, 3}\n",
      "[ 2  3  9 10] 2 {9, 3}\n",
      "[ 2  3  9 11] 2 {9, 3}\n",
      "[ 2  3 10 11] 1 {3}\n",
      "[2 4 5 6] 1 {6}\n",
      "[2 4 5 7] 0 set()\n",
      "[2 4 5 8] 1 {8}\n",
      "[2 4 5 9] 1 {9}\n",
      "[ 2  4  5 10] 0 set()\n",
      "[ 2  4  5 11] 0 set()\n",
      "[2 4 6 7] 1 {6}\n",
      "[2 4 6 8] 2 {8, 6}\n",
      "[2 4 6 9] 2 {9, 6}\n",
      "[ 2  4  6 10] 1 {6}\n",
      "[ 2  4  6 11] 1 {6}\n",
      "[2 4 7 8] 1 {8}\n",
      "[2 4 7 9] 1 {9}\n",
      "[ 2  4  7 10] 0 set()\n",
      "[ 2  4  7 11] 0 set()\n",
      "[2 4 8 9] 2 {8, 9}\n",
      "[ 2  4  8 10] 1 {8}\n",
      "[ 2  4  8 11] 1 {8}\n",
      "[ 2  4  9 10] 1 {9}\n",
      "[ 2  4  9 11] 1 {9}\n",
      "[ 2  4 10 11] 0 set()\n",
      "[2 5 6 7] 1 {6}\n",
      "[2 5 6 8] 2 {8, 6}\n",
      "[2 5 6 9] 2 {9, 6}\n",
      "[ 2  5  6 10] 1 {6}\n",
      "[ 2  5  6 11] 1 {6}\n",
      "[2 5 7 8] 1 {8}\n",
      "[2 5 7 9] 1 {9}\n",
      "[ 2  5  7 10] 0 set()\n",
      "[ 2  5  7 11] 0 set()\n",
      "[2 5 8 9] 2 {8, 9}\n",
      "[ 2  5  8 10] 1 {8}\n",
      "[ 2  5  8 11] 1 {8}\n",
      "[ 2  5  9 10] 1 {9}\n",
      "[ 2  5  9 11] 1 {9}\n",
      "[ 2  5 10 11] 0 set()\n",
      "[2 6 7 8] 2 {8, 6}\n",
      "[2 6 7 9] 2 {9, 6}\n",
      "[ 2  6  7 10] 1 {6}\n",
      "[ 2  6  7 11] 1 {6}\n",
      "[2 6 8 9] 3 {8, 9, 6}\n",
      "[ 2  6  8 10] 2 {8, 6}\n",
      "[ 2  6  8 11] 2 {8, 6}\n",
      "[ 2  6  9 10] 2 {9, 6}\n",
      "[ 2  6  9 11] 2 {9, 6}\n",
      "[ 2  6 10 11] 1 {6}\n",
      "[2 7 8 9] 2 {8, 9}\n",
      "[ 2  7  8 10] 1 {8}\n",
      "[ 2  7  8 11] 1 {8}\n",
      "[ 2  7  9 10] 1 {9}\n",
      "[ 2  7  9 11] 1 {9}\n",
      "[ 2  7 10 11] 0 set()\n",
      "[ 2  8  9 10] 2 {8, 9}\n",
      "[ 2  8  9 11] 2 {8, 9}\n",
      "[ 2  8 10 11] 1 {8}\n",
      "[ 2  9 10 11] 1 {9}\n",
      "[3 4 5 6] 2 {3, 6}\n",
      "[3 4 5 7] 1 {3}\n",
      "[3 4 5 8] 2 {8, 3}\n",
      "[3 4 5 9] 2 {9, 3}\n",
      "[ 3  4  5 10] 1 {3}\n",
      "[ 3  4  5 11] 1 {3}\n",
      "[3 4 6 7] 2 {3, 6}\n",
      "[3 4 6 8] 3 {8, 3, 6}\n",
      "[3 4 6 9] 3 {9, 3, 6}\n",
      "[ 3  4  6 10] 2 {3, 6}\n",
      "[ 3  4  6 11] 2 {3, 6}\n",
      "[3 4 7 8] 2 {8, 3}\n",
      "[3 4 7 9] 2 {9, 3}\n",
      "[ 3  4  7 10] 1 {3}\n",
      "[ 3  4  7 11] 1 {3}\n",
      "[3 4 8 9] 3 {8, 9, 3}\n",
      "[ 3  4  8 10] 2 {8, 3}\n",
      "[ 3  4  8 11] 2 {8, 3}\n",
      "[ 3  4  9 10] 2 {9, 3}\n",
      "[ 3  4  9 11] 2 {9, 3}\n",
      "[ 3  4 10 11] 1 {3}\n",
      "[3 5 6 7] 2 {3, 6}\n",
      "[3 5 6 8] 3 {8, 3, 6}\n",
      "[3 5 6 9] 3 {9, 3, 6}\n",
      "[ 3  5  6 10] 2 {3, 6}\n",
      "[ 3  5  6 11] 2 {3, 6}\n",
      "[3 5 7 8] 2 {8, 3}\n",
      "[3 5 7 9] 2 {9, 3}\n",
      "[ 3  5  7 10] 1 {3}\n",
      "[ 3  5  7 11] 1 {3}\n",
      "[3 5 8 9] 3 {8, 9, 3}\n",
      "[ 3  5  8 10] 2 {8, 3}\n",
      "[ 3  5  8 11] 2 {8, 3}\n",
      "[ 3  5  9 10] 2 {9, 3}\n",
      "[ 3  5  9 11] 2 {9, 3}\n",
      "[ 3  5 10 11] 1 {3}\n",
      "[3 6 7 8] 3 {8, 3, 6}\n",
      "[3 6 7 9] 3 {9, 3, 6}\n",
      "[ 3  6  7 10] 2 {3, 6}\n",
      "[ 3  6  7 11] 2 {3, 6}\n",
      "[3 6 8 9] 4 {8, 9, 3, 6}\n",
      "[ 3  6  8 10] 3 {8, 3, 6}\n",
      "[ 3  6  8 11] 3 {8, 3, 6}\n",
      "[ 3  6  9 10] 3 {9, 3, 6}\n",
      "[ 3  6  9 11] 3 {9, 3, 6}\n",
      "[ 3  6 10 11] 2 {3, 6}\n",
      "[3 7 8 9] 3 {8, 9, 3}\n",
      "[ 3  7  8 10] 2 {8, 3}\n",
      "[ 3  7  8 11] 2 {8, 3}\n",
      "[ 3  7  9 10] 2 {9, 3}\n",
      "[ 3  7  9 11] 2 {9, 3}\n",
      "[ 3  7 10 11] 1 {3}\n",
      "[ 3  8  9 10] 3 {8, 9, 3}\n",
      "[ 3  8  9 11] 3 {8, 9, 3}\n",
      "[ 3  8 10 11] 2 {8, 3}\n",
      "[ 3  9 10 11] 2 {9, 3}\n",
      "[4 5 6 7] 1 {6}\n",
      "[4 5 6 8] 2 {8, 6}\n",
      "[4 5 6 9] 2 {9, 6}\n",
      "[ 4  5  6 10] 1 {6}\n",
      "[ 4  5  6 11] 1 {6}\n",
      "[4 5 7 8] 1 {8}\n",
      "[4 5 7 9] 1 {9}\n",
      "[ 4  5  7 10] 0 set()\n",
      "[ 4  5  7 11] 0 set()\n",
      "[4 5 8 9] 2 {8, 9}\n",
      "[ 4  5  8 10] 1 {8}\n",
      "[ 4  5  8 11] 1 {8}\n",
      "[ 4  5  9 10] 1 {9}\n",
      "[ 4  5  9 11] 1 {9}\n",
      "[ 4  5 10 11] 0 set()\n",
      "[4 6 7 8] 2 {8, 6}\n",
      "[4 6 7 9] 2 {9, 6}\n",
      "[ 4  6  7 10] 1 {6}\n",
      "[ 4  6  7 11] 1 {6}\n",
      "[4 6 8 9] 3 {8, 9, 6}\n",
      "[ 4  6  8 10] 2 {8, 6}\n",
      "[ 4  6  8 11] 2 {8, 6}\n",
      "[ 4  6  9 10] 2 {9, 6}\n",
      "[ 4  6  9 11] 2 {9, 6}\n",
      "[ 4  6 10 11] 1 {6}\n",
      "[4 7 8 9] 2 {8, 9}\n",
      "[ 4  7  8 10] 1 {8}\n",
      "[ 4  7  8 11] 1 {8}\n",
      "[ 4  7  9 10] 1 {9}\n",
      "[ 4  7  9 11] 1 {9}\n",
      "[ 4  7 10 11] 0 set()\n",
      "[ 4  8  9 10] 2 {8, 9}\n",
      "[ 4  8  9 11] 2 {8, 9}\n",
      "[ 4  8 10 11] 1 {8}\n",
      "[ 4  9 10 11] 1 {9}\n",
      "[5 6 7 8] 2 {8, 6}\n",
      "[5 6 7 9] 2 {9, 6}\n",
      "[ 5  6  7 10] 1 {6}\n",
      "[ 5  6  7 11] 1 {6}\n",
      "[5 6 8 9] 3 {8, 9, 6}\n",
      "[ 5  6  8 10] 2 {8, 6}\n",
      "[ 5  6  8 11] 2 {8, 6}\n",
      "[ 5  6  9 10] 2 {9, 6}\n",
      "[ 5  6  9 11] 2 {9, 6}\n",
      "[ 5  6 10 11] 1 {6}\n",
      "[5 7 8 9] 2 {8, 9}\n",
      "[ 5  7  8 10] 1 {8}\n",
      "[ 5  7  8 11] 1 {8}\n",
      "[ 5  7  9 10] 1 {9}\n",
      "[ 5  7  9 11] 1 {9}\n",
      "[ 5  7 10 11] 0 set()\n",
      "[ 5  8  9 10] 2 {8, 9}\n",
      "[ 5  8  9 11] 2 {8, 9}\n",
      "[ 5  8 10 11] 1 {8}\n",
      "[ 5  9 10 11] 1 {9}\n",
      "[6 7 8 9] 3 {8, 9, 6}\n",
      "[ 6  7  8 10] 2 {8, 6}\n",
      "[ 6  7  8 11] 2 {8, 6}\n",
      "[ 6  7  9 10] 2 {9, 6}\n",
      "[ 6  7  9 11] 2 {9, 6}\n",
      "[ 6  7 10 11] 1 {6}\n",
      "[ 6  8  9 10] 3 {8, 9, 6}\n",
      "[ 6  8  9 11] 3 {8, 9, 6}\n",
      "[ 6  8 10 11] 2 {8, 6}\n",
      "[ 6  9 10 11] 2 {9, 6}\n",
      "[ 7  8  9 10] 2 {8, 9}\n",
      "[ 7  8  9 11] 2 {8, 9}\n",
      "[ 7  8 10 11] 1 {8}\n",
      "[ 7  9 10 11] 1 {9}\n",
      "[ 8  9 10 11] 2 {8, 9}\n"
     ]
    }
   ],
   "source": [
    "# Calculate the overlap between each element of combs and labels_milk.\n",
    "\n",
    "no_overlaps = []\n",
    "\n",
    "# Loop through the combinations.\n",
    "for comb in combinations_array:\n",
    "  # Turn comb into a set.\n",
    "  s1 = set(comb)\n",
    "  # Turn labels_milk into a set.\n",
    "  s2 = set(labels_milk)\n",
    "  # Figure out where they overlap.\n",
    "  overlap = s1.intersection(s2)\n",
    "  # Show the combination and the overlap.\n",
    "  print(comb, len(overlap), overlap)\n",
    "  # Append overlap to no_overlaps.\n",
    "  no_overlaps.append(len(overlap))"
   ]
  },
  {
   "cell_type": "code",
   "execution_count": 175,
   "id": "9dba0c33",
   "metadata": {},
   "outputs": [
    {
     "name": "stdout",
     "output_type": "stream",
     "text": [
      "[1, 0, 0, 1, 0, 1, 1, 0, 0, 1, 1, 2, 1, 2, 2, 1, 1, 0, 1, 0, 1, 1, 0, 0, 1, 0, 1, 1, 0, 0, 1, 2, 2, 1, 1, 1, 1, 0, 0, 2, 1, 1, 1, 1, 0, 1, 1, 2, 1, 2, 2, 1, 1, 0, 1, 0, 1, 1, 0, 0, 1, 0, 1, 1, 0, 0, 1, 2, 2, 1, 1, 1, 1, 0, 0, 2, 1, 1, 1, 1, 0, 1, 2, 1, 2, 2, 1, 1, 2, 1, 2, 2, 1, 1, 2, 3, 3, 2, 2, 2, 2, 1, 1, 3, 2, 2, 2, 2, 1, 1, 0, 1, 1, 0, 0, 1, 2, 2, 1, 1, 1, 1, 0, 0, 2, 1, 1, 1, 1, 0, 1, 2, 2, 1, 1, 1, 1, 0, 0, 2, 1, 1, 1, 1, 0, 2, 2, 1, 1, 3, 2, 2, 2, 2, 1, 2, 1, 1, 1, 1, 0, 2, 2, 1, 1, 1, 1, 2, 1, 2, 2, 1, 1, 0, 1, 0, 1, 1, 0, 0, 1, 0, 1, 1, 0, 0, 1, 2, 2, 1, 1, 1, 1, 0, 0, 2, 1, 1, 1, 1, 0, 1, 2, 1, 2, 2, 1, 1, 2, 1, 2, 2, 1, 1, 2, 3, 3, 2, 2, 2, 2, 1, 1, 3, 2, 2, 2, 2, 1, 1, 0, 1, 1, 0, 0, 1, 2, 2, 1, 1, 1, 1, 0, 0, 2, 1, 1, 1, 1, 0, 1, 2, 2, 1, 1, 1, 1, 0, 0, 2, 1, 1, 1, 1, 0, 2, 2, 1, 1, 3, 2, 2, 2, 2, 1, 2, 1, 1, 1, 1, 0, 2, 2, 1, 1, 1, 2, 1, 2, 2, 1, 1, 2, 1, 2, 2, 1, 1, 2, 3, 3, 2, 2, 2, 2, 1, 1, 3, 2, 2, 2, 2, 1, 1, 0, 1, 1, 0, 0, 1, 2, 2, 1, 1, 1, 1, 0, 0, 2, 1, 1, 1, 1, 0, 1, 2, 2, 1, 1, 1, 1, 0, 0, 2, 1, 1, 1, 1, 0, 2, 2, 1, 1, 3, 2, 2, 2, 2, 1, 2, 1, 1, 1, 1, 0, 2, 2, 1, 1, 2, 1, 2, 2, 1, 1, 2, 3, 3, 2, 2, 2, 2, 1, 1, 3, 2, 2, 2, 2, 1, 2, 3, 3, 2, 2, 2, 2, 1, 1, 3, 2, 2, 2, 2, 1, 3, 3, 2, 2, 4, 3, 3, 3, 3, 2, 3, 2, 2, 2, 2, 1, 3, 3, 2, 2, 1, 2, 2, 1, 1, 1, 1, 0, 0, 2, 1, 1, 1, 1, 0, 2, 2, 1, 1, 3, 2, 2, 2, 2, 1, 2, 1, 1, 1, 1, 0, 2, 2, 1, 1, 2, 2, 1, 1, 3, 2, 2, 2, 2, 1, 2, 1, 1, 1, 1, 0, 2, 2, 1, 1, 3, 2, 2, 2, 2, 1, 3, 3, 2, 2, 2, 2, 1, 1, 2]\n"
     ]
    }
   ],
   "source": [
    "# Show the overlaps.\n",
    "print(no_overlaps)"
   ]
  },
  {
   "cell_type": "code",
   "execution_count": 176,
   "id": "c5c31527",
   "metadata": {},
   "outputs": [
    {
     "data": {
      "text/plain": [
       "(array([0, 1, 2, 3, 4]), array([ 70, 224, 168,  32,   1]))"
      ]
     },
     "execution_count": 176,
     "metadata": {},
     "output_type": "execute_result"
    }
   ],
   "source": [
    "# Count the number of times each overlap occurs.\n",
    "counts = np.unique(no_overlaps, return_counts=True)\n",
    "\n",
    "# Show.\n",
    "counts"
   ]
  },
  {
   "cell_type": "code",
   "execution_count": 177,
   "id": "93292b93",
   "metadata": {},
   "outputs": [
    {
     "data": {
      "text/plain": [
       "495"
      ]
     },
     "execution_count": 177,
     "metadata": {},
     "output_type": "execute_result"
    }
   ],
   "source": [
    "sum_counts = np.sum(counts[1])\n",
    "sum_counts"
   ]
  },
  {
   "cell_type": "code",
   "execution_count": 178,
   "id": "e57c0bdb",
   "metadata": {},
   "outputs": [
    {
     "data": {
      "image/png": "[encoded data removed]",
      "text/plain": [
       "<Figure size 600x400 with 1 Axes>"
      ]
     },
     "metadata": {},
     "output_type": "display_data"
    }
   ],
   "source": [
    "# Create a figure.\n",
    "fig, ax = plt.subplots(figsize=(6, 4))\n",
    "\n",
    "# Bar chart.\n",
    "ax.bar(counts[0], counts[1]);"
   ]
  },
  {
   "cell_type": "code",
   "execution_count": 179,
   "id": "b330ef4c",
   "metadata": {},
   "outputs": [
    {
     "data": {
      "image/png": "[encoded data removed]",
      "text/plain": [
       "<Figure size 640x480 with 1 Axes>"
      ]
     },
     "metadata": {},
     "output_type": "display_data"
    }
   ],
   "source": [
    "# In a histogram, show the distribution of number of cups of tea with milk in first\n",
    "# when randomly selecting 4 cups from 12. \n",
    "milk_first_counts = []\n",
    "n_trials = 100000\n",
    "for _ in range(n_trials):\n",
    "    selected_cups = random.sample(range(no_cups), no_cups_milk_first)\n",
    "    milk_first_count = sum(1 for cup in selected_cups if cup < no_cups_milk_first)\n",
    "    milk_first_counts.append(milk_first_count)\n",
    "plt.hist(milk_first_counts, bins=np.arange(-0.5, no_cups_milk_first + 1.5, 1), density=True, alpha=0.7, color='blue', edgecolor='black')\n",
    "plt.xticks(range(no_cups_milk_first + 1))\n",
    "plt.xlabel('Number of cups of tea with milk in first')\n",
    "plt.ylabel('Frequency')\n",
    "plt.title('Distribution of number of cups of tea with milk in first when randomly selecting 4 cups from 12')\n",
    "plt.show()"
   ]
  },
  {
   "cell_type": "markdown",
   "id": "ee649a16",
   "metadata": {},
   "source": [
    "#### The Null Hypothesis\n",
    "The lady has no special power to tell the difference between cups of tea with milk in first and cups of tea with tea in first.\n",
    "\n",
    "The lady is selecting the four cups from the twelve cups at random."
   ]
  },
  {
   "cell_type": "markdown",
   "id": "cf0cccf6",
   "metadata": {},
   "source": [
    "#### Alternative Hypothesis\n",
    "\n",
    "The lady can tell the difference."
   ]
  },
  {
   "cell_type": "markdown",
   "id": "2e0aebdc",
   "metadata": {},
   "source": [
    "#### Evidence\n",
    "\n",
    "Fisher: if the lady is just picking four cups at random, then it is unlikely she will pick the correct four. The probability is one in four hundred ninety five. It is so unlikely, that I will agree that something non-random is happening when she is selecting the cups of tea."
   ]
  },
  {
   "cell_type": "code",
   "execution_count": 180,
   "id": "0243dfd0",
   "metadata": {},
   "outputs": [
    {
     "data": {
      "text/plain": [
       "0.00202020202020202"
      ]
     },
     "execution_count": 180,
     "metadata": {},
     "output_type": "execute_result"
    }
   ],
   "source": [
    "# The probability that she (randomly) selects the four correct cups.\n",
    "1 / 495"
   ]
  },
  {
   "cell_type": "code",
   "execution_count": 181,
   "id": "87412f9e",
   "metadata": {},
   "outputs": [
    {
     "data": {
      "text/plain": [
       "0.06666666666666667"
      ]
     },
     "execution_count": 181,
     "metadata": {},
     "output_type": "execute_result"
    }
   ],
   "source": [
    "# The probability that she (randomly) selects at least three correct cups.\n",
    "(32 + 1) / 495"
   ]
  },
  {
   "cell_type": "code",
   "execution_count": 182,
   "id": "f6df2908",
   "metadata": {},
   "outputs": [
    {
     "name": "stdout",
     "output_type": "stream",
     "text": [
      "Estimated probability of success: 0.0017\n"
     ]
    }
   ],
   "source": [
    "# Looking at the estimated probability of success of choosing 4 cups of tea with milk in first out of 12 randomly.\n",
    "# Number of cups\n",
    "no_cups = 12\n",
    "no_cups_milk_first = 4\n",
    "trials = 10000\n",
    "\n",
    "# Label cups: 0–3 = milk-first, 4–11 = tea-first\n",
    "cups = np.arange(no_cups)\n",
    "\n",
    "# Counter for successes\n",
    "successes = 0\n",
    "\n",
    "for _ in range(trials):\n",
    "    selection = np.random.choice(cups, size=no_cups_milk_first, replace=False)\n",
    "    if np.all(np.isin([0, 1, 2, 3], selection)):\n",
    "        successes += 1\n",
    "\n",
    "# Estimated probability\n",
    "probability = successes / trials\n",
    "print(\"Estimated probability of success:\", probability)"
   ]
  },
  {
   "cell_type": "markdown",
   "id": "cd3520a0",
   "metadata": {},
   "source": [
    "A \"success\" will happen if the lady selection includes all four milk-first cups. The probability of this happening is a 0.2% chance of randomly selecting exactly the four milk-first cups out of twelve. \n",
    "\n",
    "I added a Monte Carlo simulation with 10,000 trials to estimate the probability of selecting all four milk-first cups out of twelve. The repeated random sampling produced an approximate probability of 0.002 (0.2%), closely matching the analytical result. \n",
    "\n",
    "I've been looking at [geeksforgeeks](https://www.geeksforgeeks.org/python/monte-carlo-integration-in-python/) and [KDnuggets](https://www.kdnuggets.com/numpy-simulating-random-processes-monte-carlo-methods) for the Monte Carlo information and how to applied with NumPy."
   ]
  },
  {
   "cell_type": "code",
   "execution_count": 183,
   "id": "be5589c8",
   "metadata": {},
   "outputs": [
    {
     "name": "stdout",
     "output_type": "stream",
     "text": [
      "0.0017\n"
     ]
    },
    {
     "data": {
      "image/png": "[encoded data removed]",
      "text/plain": [
       "<Figure size 640x480 with 1 Axes>"
      ]
     },
     "metadata": {},
     "output_type": "display_data"
    },
    {
     "name": "stdout",
     "output_type": "stream",
     "text": [
      "495\n",
      "11880\n"
     ]
    }
   ],
   "source": [
    "# looking in pie chart for the percent chances of selecting 4 cups of tea with milk in first when selecting at random\n",
    "# chances of selecting 4 cups of tea with milk in first when selecting at random\n",
    "probability = successes / trials\n",
    "print(probability)\n",
    "probability_percentage = probability * 100\n",
    "probability_percentage\n",
    "labels = ['Probability of selecting 4 cups of tea with milk in first', 'Probability of not selecting 4 cups of tea with milk in first']\n",
    "sizes = [probability_percentage, 100 - probability_percentage]\n",
    "colors = ['#ff9999','#66b3ff']\n",
    "explode = (0.1, 0)\n",
    "plt.pie(sizes, explode=explode, labels=labels, colors=colors, autopct='%1.1f%%', shadow=True, startangle=140)\n",
    "plt.axis('equal')\n",
    "plt.title('Probability of selecting 4 cups of tea with milk in first when selecting at random')\n",
    "plt.show()\n",
    "\n",
    "print(no_combs)\n",
    "print(ways_ordered)"
   ]
  },
  {
   "cell_type": "markdown",
   "id": "e21afd7f",
   "metadata": {},
   "source": [
    "## Problem 2: Normal Distribution\n",
    "\n",
    "Generate 100,000 samples of size 10 from the standard normal distribution. For each sample, compute the standard deviation with ddof=1 (sample SD) and with ddof=0 (population SD). Plot histograms of both sets of values on the same axes with transparency. Describe the differences you see. Explain how you expect these differences to change if the sample size is increased."
   ]
  },
  {
   "cell_type": "markdown",
   "id": "d3f9c2b8",
   "metadata": {},
   "source": [
    "## Problem 3: t-Tests\n",
    "\n"
   ]
  },
  {
   "cell_type": "markdown",
   "id": "5580c48b",
   "metadata": {},
   "source": [
    "## Problem 4: ANOVA"
   ]
  },
  {
   "cell_type": "markdown",
   "id": "f17f72b9",
   "metadata": {},
   "source": [
    "## End\n",
    "\n",
    "*************"
   ]
  }
 ],
 "metadata": {
  "kernelspec": {
   "display_name": "base",
   "language": "python",
   "name": "python3"
  },
  "language_info": {
   "codemirror_mode": {
    "name": "ipython",
    "version": 3
   },
   "file_extension": ".py",
   "mimetype": "text/x-python",
   "name": "python",
   "nbconvert_exporter": "python",
   "pygments_lexer": "ipython3",
   "version": "3.12.4"
  }
 },
 "nbformat": 4,
 "nbformat_minor": 5
}
